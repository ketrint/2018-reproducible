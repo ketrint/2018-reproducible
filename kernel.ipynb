{
  "cells": [
    {
      "metadata": {
        "_uuid": "8f2839f25d086af736a60e9eeb907d3b93b6e0e5",
        "_cell_guid": "b1076dfc-b9ad-4769-8c92-a6c4dae69d19",
        "trusted": true
      },
      "cell_type": "code",
      "source": "import numpy as np # linear algebra\nimport pandas as pd # data processing, CSV file I/O (e.g. pd.read_csv)\nimport matplotlib\nimport seaborn as sns\n\nfrom sklearn.linear_model import LogisticRegression as LR\nfrom sklearn.feature_extraction import DictVectorizer as DV\nfrom sklearn.preprocessing import StandardScaler\nfrom sklearn.model_selection import GridSearchCV\nfrom sklearn.metrics import roc_auc_score\n\nimport os\nprint(os.listdir(\"../input\"))",
      "execution_count": null,
      "outputs": []
    },
    {
      "metadata": {
        "_cell_guid": "79c7e3d0-c299-4dcb-8224-4455121ee9b0",
        "_uuid": "d629ff2d2480ee46fbb7e2d37f6b5fab8052498a",
        "trusted": true
      },
      "cell_type": "code",
      "source": "train = pd.read_csv('../input/train.csv')\ntest = pd.read_csv('../input/test.csv')\ny_test_0 = pd.read_csv('../input/gender_submission.csv')",
      "execution_count": null,
      "outputs": []
    },
    {
      "metadata": {
        "trusted": true,
        "_uuid": "0b848115989ad731c9280ae57379eb2de7229d22"
      },
      "cell_type": "code",
      "source": "train.head()",
      "execution_count": null,
      "outputs": []
    },
    {
      "metadata": {
        "trusted": true,
        "_uuid": "07157cf1df304bb92d279693cb7f4a2159844f14"
      },
      "cell_type": "code",
      "source": "train.describe()",
      "execution_count": null,
      "outputs": []
    },
    {
      "metadata": {
        "trusted": true,
        "_uuid": "538de3dc6db9ce6164341ff723f94237baca20b0"
      },
      "cell_type": "code",
      "source": "# Correlation matrix between numerical values (SibSp Parch Age and Fare values) and Survived \nsns.heatmap(train[[\"Survived\",\"SibSp\",\"Parch\",\"Age\",\"Fare\"]].corr(),\n                annot=True, fmt = \".2f\", cmap = \"coolwarm\")",
      "execution_count": null,
      "outputs": []
    },
    {
      "metadata": {
        "trusted": true,
        "_uuid": "2f2f2b4b57691c4aa8a6f1fe3105aad9bd6a155b"
      },
      "cell_type": "code",
      "source": "test = test.join(y_test_0.set_index('PassengerId'), on='PassengerId')\ntest.describe()",
      "execution_count": null,
      "outputs": []
    },
    {
      "metadata": {
        "_uuid": "19ce92b0bf006a41352ccc6ad53d0aa94aa6e35a"
      },
      "cell_type": "markdown",
      "source": "**Preprocessing**"
    },
    {
      "metadata": {
        "_uuid": "7618848d907fec6ba3c0885b3485b2cd25c4f885"
      },
      "cell_type": "markdown",
      "source": "1. Combining train and test datasets to work with categirial features"
    },
    {
      "metadata": {
        "trusted": true,
        "_uuid": "a4a104e0a3ab8bea6bb2c1dae6c9158215c963ef"
      },
      "cell_type": "code",
      "source": "data = pd.concat([train, test], ignore_index=True, sort=False)\ndata.drop('PassengerId', 1, inplace=True)\nX = data.drop('Survived', 1)\ny = data['Survived']",
      "execution_count": null,
      "outputs": []
    },
    {
      "metadata": {
        "trusted": true,
        "_uuid": "cdc4a2523fb670ff77d4c0513a5d918dc507b13a"
      },
      "cell_type": "code",
      "source": "data.shape",
      "execution_count": null,
      "outputs": []
    },
    {
      "metadata": {
        "_uuid": "23549aaba38c5e0f55829b9a14d480a26bdd7497"
      },
      "cell_type": "markdown",
      "source": "2. Drop raws with NaNs"
    },
    {
      "metadata": {
        "trusted": true,
        "_uuid": "e975777880faec6b18ea985e54a04c3dc32e096a"
      },
      "cell_type": "code",
      "source": "data.dropna().shape",
      "execution_count": null,
      "outputs": []
    },
    {
      "metadata": {
        "_uuid": "6cdcbf5fef4c737f39564aac396f3939939def26"
      },
      "cell_type": "markdown",
      "source": "*This method cant be use because we loose a huge ammount of data *"
    },
    {
      "metadata": {
        "_uuid": "c164db6617d5f3a897d103eb55a07aebfd3ddc55"
      },
      "cell_type": "markdown",
      "source": "3. Numerical and categorial columns preprocessing"
    },
    {
      "metadata": {
        "trusted": true,
        "_uuid": "525fded3316e287f6c03bf0c071c66e1a847767e"
      },
      "cell_type": "code",
      "source": "cat_cols = ['Name', 'Sex', 'Ticket', 'Cabin', 'Embarked']\nnum_cols = list(set(X.columns.values.tolist()) - set(cat_cols))",
      "execution_count": null,
      "outputs": []
    },
    {
      "metadata": {
        "trusted": true,
        "_uuid": "ffcf45ddc9ed53e7adf6d03fbd19d5e80255e0fc"
      },
      "cell_type": "code",
      "source": "X_num = X[num_cols].fillna(0)\nX_cat = X[cat_cols].fillna('NA', axis=0).applymap(str)",
      "execution_count": null,
      "outputs": []
    },
    {
      "metadata": {
        "trusted": true,
        "_uuid": "52e59a94a50585539571dd86fe4604e81b9691c2"
      },
      "cell_type": "code",
      "source": "#Categorial features one-hot encoding\nencoder = DV(sparse = False)\nX_cat_oh = encoder.fit_transform(X_cat.T.to_dict().values())\n\n#Numerical features scaling\nscaler = StandardScaler()\nscaler.fit(X_num, y)\nX_num_scaled = scaler.transform(X_num)\n\n#Combine features\nX = np.hstack((X_cat_oh,X_num_scaled))",
      "execution_count": null,
      "outputs": []
    },
    {
      "metadata": {
        "trusted": true,
        "_uuid": "1ed14b15cb8753b6136423aa37508c5cda39462b"
      },
      "cell_type": "code",
      "source": "print(\"Lenth of y:\", len(y.values),'\\n'\"Lenth of X:\", len(X))",
      "execution_count": null,
      "outputs": []
    },
    {
      "metadata": {
        "_uuid": "01029dfc4de2b0b7e96e20408a27b22203b0e544"
      },
      "cell_type": "markdown",
      "source": "**Logistic regression**"
    },
    {
      "metadata": {
        "trusted": true,
        "_uuid": "ed66503d04d19e2fd2ebeb241fb471211cea37a5"
      },
      "cell_type": "code",
      "source": "y = np.reshape(y.values,(len(y),1))",
      "execution_count": null,
      "outputs": []
    },
    {
      "metadata": {
        "trusted": true,
        "_uuid": "bed8be173cc4c05e484ce869d9dfdb81422bba81"
      },
      "cell_type": "code",
      "source": "(X_train, X_test, \n y_train, y_test) = (X[:len(train)],  X[len(train):],\n                    y[:len(train)],  y[len(train):])",
      "execution_count": null,
      "outputs": []
    },
    {
      "metadata": {
        "trusted": true,
        "_uuid": "7ce7683cd90dc1dbb12d9b586fb0c79728ffed83"
      },
      "cell_type": "code",
      "source": "param_grid = {'C': [0.01, 0.05, 0.1, 0.5, 1, 5, 10]}\ncv = 3\n\nclf = LR(random_state = 0)\n\ngrid_cv = GridSearchCV(clf, param_grid, cv = 3)\ngrid_cv.fit(X_train, y_train)\n\npredicted = grid_cv.best_estimator_.predict_proba(X_test)[:,1]\n\nroc_auc = roc_auc_score(y_test, predicted)",
      "execution_count": null,
      "outputs": []
    },
    {
      "metadata": {
        "trusted": true,
        "_uuid": "b9384b98c2232be5299a648f2bdf72ce1125b27f"
      },
      "cell_type": "code",
      "source": "roc_auc",
      "execution_count": null,
      "outputs": []
    },
    {
      "metadata": {
        "trusted": true,
        "_uuid": "095e02b9f4a7ee5a8d595b41537416b013eb48c9"
      },
      "cell_type": "code",
      "source": "test_Survived = pd.Series(grid_cv.best_estimator_.predict(X_test), name=\"Survived\")\nresult = pd.concat([y_test_0.PassengerId,test_Survived],axis=1)\nresult.to_csv(\"result.csv\",index=False)",
      "execution_count": null,
      "outputs": []
    },
    {
      "metadata": {
        "trusted": true,
        "_uuid": "6c9a570b3ca91c67f6ea8bdc2d44892ec7c461ed"
      },
      "cell_type": "code",
      "source": "result",
      "execution_count": null,
      "outputs": []
    }
  ],
  "metadata": {
    "kernelspec": {
      "display_name": "Python 3",
      "language": "python",
      "name": "python3"
    },
    "language_info": {
      "name": "python",
      "version": "3.6.6",
      "mimetype": "text/x-python",
      "codemirror_mode": {
        "name": "ipython",
        "version": 3
      },
      "pygments_lexer": "ipython3",
      "nbconvert_exporter": "python",
      "file_extension": ".py"
    }
  },
  "nbformat": 4,
  "nbformat_minor": 1
}